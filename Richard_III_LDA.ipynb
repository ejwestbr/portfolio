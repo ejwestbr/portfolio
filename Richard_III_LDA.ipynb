{
 "cells": [
  {
   "cell_type": "code",
   "execution_count": 1,
   "id": "f754e519",
   "metadata": {},
   "outputs": [],
   "source": [
    "import pandas as pd\n",
    "import nltk"
   ]
  },
  {
   "cell_type": "code",
   "execution_count": 2,
   "id": "a170c6b0",
   "metadata": {},
   "outputs": [
    {
     "name": "stdout",
     "output_type": "stream",
     "text": [
      "C:\\Users\\Elizabeth's\\Documents\\Folger_Digital_Texts_Complete\n"
     ]
    }
   ],
   "source": [
    "cd \"C:\\Users\\Elizabeth's\\Documents\\Folger_Digital_Texts_Complete\""
   ]
  },
  {
   "cell_type": "code",
   "execution_count": 3,
   "id": "d0d91c9d",
   "metadata": {},
   "outputs": [
    {
     "data": {
      "text/html": [
       "<div>\n",
       "<style scoped>\n",
       "    .dataframe tbody tr th:only-of-type {\n",
       "        vertical-align: middle;\n",
       "    }\n",
       "\n",
       "    .dataframe tbody tr th {\n",
       "        vertical-align: top;\n",
       "    }\n",
       "\n",
       "    .dataframe thead th {\n",
       "        text-align: right;\n",
       "    }\n",
       "</style>\n",
       "<table border=\"1\" class=\"dataframe\">\n",
       "  <thead>\n",
       "    <tr style=\"text-align: right;\">\n",
       "      <th></th>\n",
       "      <th>title</th>\n",
       "      <th>act_scene</th>\n",
       "      <th>folgerID</th>\n",
       "      <th>speaker</th>\n",
       "      <th>sex</th>\n",
       "      <th>prose_verse</th>\n",
       "      <th>lines</th>\n",
       "    </tr>\n",
       "  </thead>\n",
       "  <tbody>\n",
       "    <tr>\n",
       "      <th>185</th>\n",
       "      <td>Richard III</td>\n",
       "      <td>1.1.108</td>\n",
       "      <td>Clarence_3H6</td>\n",
       "      <td>CLARENCE</td>\n",
       "      <td>male</td>\n",
       "      <td>verse</td>\n",
       "      <td>We know thy charge, Brakenbury, and will obey.</td>\n",
       "    </tr>\n",
       "    <tr>\n",
       "      <th>186</th>\n",
       "      <td>Richard III</td>\n",
       "      <td>1.1.109</td>\n",
       "      <td>RichardIII_R3</td>\n",
       "      <td>RICHARD</td>\n",
       "      <td>male</td>\n",
       "      <td>verse</td>\n",
       "      <td>We are the Queen’s abjects and must obey.—</td>\n",
       "    </tr>\n",
       "    <tr>\n",
       "      <th>187</th>\n",
       "      <td>Richard III</td>\n",
       "      <td>1.1.110</td>\n",
       "      <td>RichardIII_R3</td>\n",
       "      <td>RICHARD</td>\n",
       "      <td>male</td>\n",
       "      <td>verse</td>\n",
       "      <td>Brother, farewell. I will unto the King,</td>\n",
       "    </tr>\n",
       "    <tr>\n",
       "      <th>188</th>\n",
       "      <td>Richard III</td>\n",
       "      <td>1.1.111</td>\n",
       "      <td>RichardIII_R3</td>\n",
       "      <td>RICHARD</td>\n",
       "      <td>male</td>\n",
       "      <td>verse</td>\n",
       "      <td>And whatsoe’er you will employ me in,</td>\n",
       "    </tr>\n",
       "    <tr>\n",
       "      <th>189</th>\n",
       "      <td>Richard III</td>\n",
       "      <td>1.1.112</td>\n",
       "      <td>RichardIII_R3</td>\n",
       "      <td>RICHARD</td>\n",
       "      <td>male</td>\n",
       "      <td>verse</td>\n",
       "      <td>Were it to call King Edward’s widow sister,</td>\n",
       "    </tr>\n",
       "    <tr>\n",
       "      <th>190</th>\n",
       "      <td>Richard III</td>\n",
       "      <td>1.1.113</td>\n",
       "      <td>RichardIII_R3</td>\n",
       "      <td>RICHARD</td>\n",
       "      <td>male</td>\n",
       "      <td>verse</td>\n",
       "      <td>I will perform it to enfranchise you.</td>\n",
       "    </tr>\n",
       "    <tr>\n",
       "      <th>191</th>\n",
       "      <td>Richard III</td>\n",
       "      <td>1.1.114</td>\n",
       "      <td>RichardIII_R3</td>\n",
       "      <td>RICHARD</td>\n",
       "      <td>male</td>\n",
       "      <td>verse</td>\n",
       "      <td>Meantime, this deep disgrace in brotherhood</td>\n",
       "    </tr>\n",
       "    <tr>\n",
       "      <th>192</th>\n",
       "      <td>Richard III</td>\n",
       "      <td>1.1.115</td>\n",
       "      <td>RichardIII_R3</td>\n",
       "      <td>RICHARD</td>\n",
       "      <td>male</td>\n",
       "      <td>verse</td>\n",
       "      <td>Touches me deeper than you can imagine.</td>\n",
       "    </tr>\n",
       "    <tr>\n",
       "      <th>193</th>\n",
       "      <td>Richard III</td>\n",
       "      <td>1.1.116</td>\n",
       "      <td>Clarence_3H6</td>\n",
       "      <td>CLARENCE</td>\n",
       "      <td>male</td>\n",
       "      <td>verse</td>\n",
       "      <td>I know it pleaseth neither of us well.</td>\n",
       "    </tr>\n",
       "    <tr>\n",
       "      <th>194</th>\n",
       "      <td>Richard III</td>\n",
       "      <td>1.1.117</td>\n",
       "      <td>RichardIII_R3</td>\n",
       "      <td>RICHARD</td>\n",
       "      <td>male</td>\n",
       "      <td>verse</td>\n",
       "      <td>Well, your imprisonment shall not be long.</td>\n",
       "    </tr>\n",
       "    <tr>\n",
       "      <th>195</th>\n",
       "      <td>Richard III</td>\n",
       "      <td>1.1.118</td>\n",
       "      <td>RichardIII_R3</td>\n",
       "      <td>RICHARD</td>\n",
       "      <td>male</td>\n",
       "      <td>verse</td>\n",
       "      <td>I will deliver you or else lie for you.</td>\n",
       "    </tr>\n",
       "    <tr>\n",
       "      <th>196</th>\n",
       "      <td>Richard III</td>\n",
       "      <td>1.1.119</td>\n",
       "      <td>RichardIII_R3</td>\n",
       "      <td>RICHARD</td>\n",
       "      <td>male</td>\n",
       "      <td>verse</td>\n",
       "      <td>Meantime, have patience.</td>\n",
       "    </tr>\n",
       "    <tr>\n",
       "      <th>197</th>\n",
       "      <td>Richard III</td>\n",
       "      <td>1.1.120</td>\n",
       "      <td>Clarence_3H6</td>\n",
       "      <td>CLARENCE</td>\n",
       "      <td>male</td>\n",
       "      <td>verse</td>\n",
       "      <td>I must, perforce. Farewell.</td>\n",
       "    </tr>\n",
       "    <tr>\n",
       "      <th>198</th>\n",
       "      <td>Richard III</td>\n",
       "      <td>1.1.121</td>\n",
       "      <td>RichardIII_R3</td>\n",
       "      <td>RICHARD</td>\n",
       "      <td>male</td>\n",
       "      <td>verse</td>\n",
       "      <td>Go tread the path that thou shalt ne’er return.</td>\n",
       "    </tr>\n",
       "    <tr>\n",
       "      <th>199</th>\n",
       "      <td>Richard III</td>\n",
       "      <td>1.1.122</td>\n",
       "      <td>RichardIII_R3</td>\n",
       "      <td>RICHARD</td>\n",
       "      <td>male</td>\n",
       "      <td>verse</td>\n",
       "      <td>Simple, plain Clarence, I do love thee so</td>\n",
       "    </tr>\n",
       "  </tbody>\n",
       "</table>\n",
       "</div>"
      ],
      "text/plain": [
       "           title act_scene        folgerID    speaker    sex prose_verse  \\\n",
       "185  Richard III   1.1.108    Clarence_3H6   CLARENCE   male       verse   \n",
       "186  Richard III   1.1.109   RichardIII_R3    RICHARD   male       verse   \n",
       "187  Richard III   1.1.110   RichardIII_R3    RICHARD   male       verse   \n",
       "188  Richard III   1.1.111   RichardIII_R3    RICHARD   male       verse   \n",
       "189  Richard III   1.1.112   RichardIII_R3    RICHARD   male       verse   \n",
       "190  Richard III   1.1.113   RichardIII_R3    RICHARD   male       verse   \n",
       "191  Richard III   1.1.114   RichardIII_R3    RICHARD   male       verse   \n",
       "192  Richard III   1.1.115   RichardIII_R3    RICHARD   male       verse   \n",
       "193  Richard III   1.1.116    Clarence_3H6   CLARENCE   male       verse   \n",
       "194  Richard III   1.1.117   RichardIII_R3    RICHARD   male       verse   \n",
       "195  Richard III   1.1.118   RichardIII_R3    RICHARD   male       verse   \n",
       "196  Richard III   1.1.119   RichardIII_R3    RICHARD   male       verse   \n",
       "197  Richard III   1.1.120    Clarence_3H6   CLARENCE   male       verse   \n",
       "198  Richard III   1.1.121   RichardIII_R3    RICHARD   male       verse   \n",
       "199  Richard III   1.1.122   RichardIII_R3    RICHARD   male       verse   \n",
       "\n",
       "                                               lines  \n",
       "185   We know thy charge, Brakenbury, and will obey.  \n",
       "186       We are the Queen’s abjects and must obey.—  \n",
       "187         Brother, farewell. I will unto the King,  \n",
       "188            And whatsoe’er you will employ me in,  \n",
       "189      Were it to call King Edward’s widow sister,  \n",
       "190            I will perform it to enfranchise you.  \n",
       "191      Meantime, this deep disgrace in brotherhood  \n",
       "192          Touches me deeper than you can imagine.  \n",
       "193           I know it pleaseth neither of us well.  \n",
       "194       Well, your imprisonment shall not be long.  \n",
       "195          I will deliver you or else lie for you.  \n",
       "196                         Meantime, have patience.  \n",
       "197                      I must, perforce. Farewell.  \n",
       "198  Go tread the path that thou shalt ne’er return.  \n",
       "199        Simple, plain Clarence, I do love thee so  "
      ]
     },
     "execution_count": 3,
     "metadata": {},
     "output_type": "execute_result"
    }
   ],
   "source": [
    "richardIII= pd.read_csv(\"richardIII_gender.csv\")\n",
    "richardIII[185:200]"
   ]
  },
  {
   "cell_type": "code",
   "execution_count": 4,
   "id": "cae61f3d",
   "metadata": {},
   "outputs": [
    {
     "data": {
      "text/html": [
       "<div>\n",
       "<style scoped>\n",
       "    .dataframe tbody tr th:only-of-type {\n",
       "        vertical-align: middle;\n",
       "    }\n",
       "\n",
       "    .dataframe tbody tr th {\n",
       "        vertical-align: top;\n",
       "    }\n",
       "\n",
       "    .dataframe thead th {\n",
       "        text-align: right;\n",
       "    }\n",
       "</style>\n",
       "<table border=\"1\" class=\"dataframe\">\n",
       "  <thead>\n",
       "    <tr style=\"text-align: right;\">\n",
       "      <th></th>\n",
       "      <th>speaker</th>\n",
       "      <th>sex</th>\n",
       "      <th>lines</th>\n",
       "    </tr>\n",
       "  </thead>\n",
       "  <tbody>\n",
       "    <tr>\n",
       "      <th>0</th>\n",
       "      <td>Sex</td>\n",
       "      <td>Sex</td>\n",
       "      <td>NaN</td>\n",
       "    </tr>\n",
       "    <tr>\n",
       "      <th>1</th>\n",
       "      <td>male</td>\n",
       "      <td>male</td>\n",
       "      <td>NaN</td>\n",
       "    </tr>\n",
       "    <tr>\n",
       "      <th>2</th>\n",
       "      <td>female</td>\n",
       "      <td>female</td>\n",
       "      <td>NaN</td>\n",
       "    </tr>\n",
       "    <tr>\n",
       "      <th>3</th>\n",
       "      <td>male</td>\n",
       "      <td>male</td>\n",
       "      <td>NaN</td>\n",
       "    </tr>\n",
       "    <tr>\n",
       "      <th>4</th>\n",
       "      <td>female</td>\n",
       "      <td>female</td>\n",
       "      <td>NaN</td>\n",
       "    </tr>\n",
       "    <tr>\n",
       "      <th>...</th>\n",
       "      <td>...</td>\n",
       "      <td>...</td>\n",
       "      <td>...</td>\n",
       "    </tr>\n",
       "    <tr>\n",
       "      <th>4485</th>\n",
       "      <td>RICHMOND</td>\n",
       "      <td>male</td>\n",
       "      <td>And make poor England weep in streams of blood.</td>\n",
       "    </tr>\n",
       "    <tr>\n",
       "      <th>4486</th>\n",
       "      <td>RICHMOND</td>\n",
       "      <td>male</td>\n",
       "      <td>Let them not live to taste this land’s increase,</td>\n",
       "    </tr>\n",
       "    <tr>\n",
       "      <th>4487</th>\n",
       "      <td>RICHMOND</td>\n",
       "      <td>male</td>\n",
       "      <td>That would with treason wound this fair land’s...</td>\n",
       "    </tr>\n",
       "    <tr>\n",
       "      <th>4488</th>\n",
       "      <td>RICHMOND</td>\n",
       "      <td>male</td>\n",
       "      <td>Now civil wounds are stopped, peace lives again.</td>\n",
       "    </tr>\n",
       "    <tr>\n",
       "      <th>4489</th>\n",
       "      <td>RICHMOND</td>\n",
       "      <td>male</td>\n",
       "      <td>That she may long live here, God say amen.</td>\n",
       "    </tr>\n",
       "  </tbody>\n",
       "</table>\n",
       "<p>4490 rows × 3 columns</p>\n",
       "</div>"
      ],
      "text/plain": [
       "        speaker     sex                                              lines\n",
       "0           Sex     Sex                                                NaN\n",
       "1          male    male                                                NaN\n",
       "2        female  female                                                NaN\n",
       "3          male    male                                                NaN\n",
       "4        female  female                                                NaN\n",
       "...         ...     ...                                                ...\n",
       "4485   RICHMOND    male    And make poor England weep in streams of blood.\n",
       "4486   RICHMOND    male   Let them not live to taste this land’s increase,\n",
       "4487   RICHMOND    male  That would with treason wound this fair land’s...\n",
       "4488   RICHMOND    male   Now civil wounds are stopped, peace lives again.\n",
       "4489   RICHMOND    male         That she may long live here, God say amen.\n",
       "\n",
       "[4490 rows x 3 columns]"
      ]
     },
     "execution_count": 4,
     "metadata": {},
     "output_type": "execute_result"
    }
   ],
   "source": [
    "richardIII = richardIII.drop(columns = ['title', 'folgerID', 'act_scene',  'prose_verse'])\n",
    "richardIII"
   ]
  },
  {
   "cell_type": "code",
   "execution_count": 5,
   "id": "c92195f0",
   "metadata": {},
   "outputs": [
    {
     "data": {
      "text/html": [
       "<div>\n",
       "<style scoped>\n",
       "    .dataframe tbody tr th:only-of-type {\n",
       "        vertical-align: middle;\n",
       "    }\n",
       "\n",
       "    .dataframe tbody tr th {\n",
       "        vertical-align: top;\n",
       "    }\n",
       "\n",
       "    .dataframe thead th {\n",
       "        text-align: right;\n",
       "    }\n",
       "</style>\n",
       "<table border=\"1\" class=\"dataframe\">\n",
       "  <thead>\n",
       "    <tr style=\"text-align: right;\">\n",
       "      <th></th>\n",
       "      <th>speaker</th>\n",
       "      <th>sex</th>\n",
       "      <th>lines</th>\n",
       "    </tr>\n",
       "  </thead>\n",
       "  <tbody>\n",
       "    <tr>\n",
       "      <th>77</th>\n",
       "      <td>RICHARD</td>\n",
       "      <td>male</td>\n",
       "      <td>Now is the winter of our discontent</td>\n",
       "    </tr>\n",
       "    <tr>\n",
       "      <th>78</th>\n",
       "      <td>RICHARD</td>\n",
       "      <td>male</td>\n",
       "      <td>Made glorious summer by this son of York,</td>\n",
       "    </tr>\n",
       "    <tr>\n",
       "      <th>79</th>\n",
       "      <td>RICHARD</td>\n",
       "      <td>male</td>\n",
       "      <td>And all the clouds that loured upon our house</td>\n",
       "    </tr>\n",
       "    <tr>\n",
       "      <th>80</th>\n",
       "      <td>RICHARD</td>\n",
       "      <td>male</td>\n",
       "      <td>In the deep bosom of the ocean buried.</td>\n",
       "    </tr>\n",
       "    <tr>\n",
       "      <th>81</th>\n",
       "      <td>RICHARD</td>\n",
       "      <td>male</td>\n",
       "      <td>Now are our brows bound with victorious wreaths,</td>\n",
       "    </tr>\n",
       "    <tr>\n",
       "      <th>...</th>\n",
       "      <td>...</td>\n",
       "      <td>...</td>\n",
       "      <td>...</td>\n",
       "    </tr>\n",
       "    <tr>\n",
       "      <th>4485</th>\n",
       "      <td>RICHMOND</td>\n",
       "      <td>male</td>\n",
       "      <td>And make poor England weep in streams of blood.</td>\n",
       "    </tr>\n",
       "    <tr>\n",
       "      <th>4486</th>\n",
       "      <td>RICHMOND</td>\n",
       "      <td>male</td>\n",
       "      <td>Let them not live to taste this land’s increase,</td>\n",
       "    </tr>\n",
       "    <tr>\n",
       "      <th>4487</th>\n",
       "      <td>RICHMOND</td>\n",
       "      <td>male</td>\n",
       "      <td>That would with treason wound this fair land’s...</td>\n",
       "    </tr>\n",
       "    <tr>\n",
       "      <th>4488</th>\n",
       "      <td>RICHMOND</td>\n",
       "      <td>male</td>\n",
       "      <td>Now civil wounds are stopped, peace lives again.</td>\n",
       "    </tr>\n",
       "    <tr>\n",
       "      <th>4489</th>\n",
       "      <td>RICHMOND</td>\n",
       "      <td>male</td>\n",
       "      <td>That she may long live here, God say amen.</td>\n",
       "    </tr>\n",
       "  </tbody>\n",
       "</table>\n",
       "<p>3765 rows × 3 columns</p>\n",
       "</div>"
      ],
      "text/plain": [
       "        speaker    sex                                              lines\n",
       "77      RICHARD   male                Now is the winter of our discontent\n",
       "78      RICHARD   male          Made glorious summer by this son of York,\n",
       "79      RICHARD   male      And all the clouds that loured upon our house\n",
       "80      RICHARD   male             In the deep bosom of the ocean buried.\n",
       "81      RICHARD   male   Now are our brows bound with victorious wreaths,\n",
       "...         ...    ...                                                ...\n",
       "4485   RICHMOND   male    And make poor England weep in streams of blood.\n",
       "4486   RICHMOND   male   Let them not live to taste this land’s increase,\n",
       "4487   RICHMOND   male  That would with treason wound this fair land’s...\n",
       "4488   RICHMOND   male   Now civil wounds are stopped, peace lives again.\n",
       "4489   RICHMOND   male         That she may long live here, God say amen.\n",
       "\n",
       "[3765 rows x 3 columns]"
      ]
     },
     "execution_count": 5,
     "metadata": {},
     "output_type": "execute_result"
    }
   ],
   "source": [
    "richardIII.dropna(axis=0, inplace=True)\n",
    "richardIII"
   ]
  },
  {
   "cell_type": "code",
   "execution_count": 6,
   "id": "68f6ac39",
   "metadata": {},
   "outputs": [
    {
     "data": {
      "text/plain": [
       "77                now is the winter of our discontent\n",
       "78           made glorious summer by this son of york\n",
       "79      and all the clouds that loured upon our house\n",
       "80              in the deep bosom of the ocean buried\n",
       "81    now are our brows bound with victorious wreaths\n",
       "Name: text_processed, dtype: object"
      ]
     },
     "execution_count": 6,
     "metadata": {},
     "output_type": "execute_result"
    }
   ],
   "source": [
    "# Load the regular expression library\n",
    "import re\n",
    "\n",
    "# Remove punctuation\n",
    "richardIII['text_processed'] = \\\n",
    "richardIII['lines'].map(lambda x: re.sub('[,\\.!?]', '', x))\n",
    "\n",
    "# Convert the titles to lowercase\n",
    "richardIII['text_processed'] = \\\n",
    "richardIII['text_processed'].map(lambda x: x.lower())\n",
    "\n",
    "# Print out the first rows of papers\n",
    "richardIII['text_processed'].head()"
   ]
  },
  {
   "cell_type": "markdown",
   "id": "c9158b47",
   "metadata": {},
   "source": [
    "### custom stop words list, includes common Shakespearean words: thee, thine, thou, etc."
   ]
  },
  {
   "cell_type": "code",
   "execution_count": 7,
   "id": "71cd3670",
   "metadata": {},
   "outputs": [],
   "source": [
    "filename = \"custom_stops.txt\"\n",
    "file = open(filename, mode= 'r')\n",
    "stop_words = file.read()"
   ]
  },
  {
   "cell_type": "code",
   "execution_count": 8,
   "id": "41cc5a17",
   "metadata": {},
   "outputs": [
    {
     "name": "stdout",
     "output_type": "stream",
     "text": [
      "['now', 'winter', 'discontent']\n"
     ]
    }
   ],
   "source": [
    "import gensim\n",
    "from gensim.utils import simple_preprocess\n",
    "\n",
    "def sent_to_words(sentences):\n",
    "    for sentence in sentences:\n",
    "        # deacc=True removes punctuations\n",
    "        yield(gensim.utils.simple_preprocess(str(sentence), deacc=True))\n",
    "\n",
    "def remove_stopwords(texts):\n",
    "    return [[word for word in simple_preprocess(str(doc)) \n",
    "             if word not in stop_words] for doc in texts]\n",
    "\n",
    "## new dataframe\n",
    "data = richardIII.text_processed.values.tolist()\n",
    "data_words = list(sent_to_words(data))\n",
    "\n",
    "# remove stop words\n",
    "data_words = remove_stopwords(data_words)\n",
    "\n",
    "print(data_words[:1][0][:30])"
   ]
  },
  {
   "cell_type": "code",
   "execution_count": 9,
   "id": "a238bc40",
   "metadata": {},
   "outputs": [
    {
     "name": "stdout",
     "output_type": "stream",
     "text": [
      "77                        [now, winter, discontent]\n",
      "78              [made, glorious, summer, son, york]\n",
      "79                    [clouds, loured, upon, house]\n",
      "80                     [deep, bosom, ocean, buried]\n",
      "81         [now, brows, bound, victorious, wreaths]\n",
      "                           ...                     \n",
      "4485    [make, poor, england, weep, streams, blood]\n",
      "4486             [let, live, taste, land, increase]\n",
      "4487            [treason, wound, fair, land, peace]\n",
      "4488    [now, civil, wounds, stopped, peace, lives]\n",
      "4489              [may, long, live, god, say, amen]\n",
      "Name: data_words, Length: 3765, dtype: object\n"
     ]
    },
    {
     "data": {
      "text/html": [
       "<div>\n",
       "<style scoped>\n",
       "    .dataframe tbody tr th:only-of-type {\n",
       "        vertical-align: middle;\n",
       "    }\n",
       "\n",
       "    .dataframe tbody tr th {\n",
       "        vertical-align: top;\n",
       "    }\n",
       "\n",
       "    .dataframe thead th {\n",
       "        text-align: right;\n",
       "    }\n",
       "</style>\n",
       "<table border=\"1\" class=\"dataframe\">\n",
       "  <thead>\n",
       "    <tr style=\"text-align: right;\">\n",
       "      <th></th>\n",
       "      <th>speaker</th>\n",
       "      <th>sex</th>\n",
       "      <th>lines</th>\n",
       "      <th>text_processed</th>\n",
       "      <th>data_words</th>\n",
       "    </tr>\n",
       "  </thead>\n",
       "  <tbody>\n",
       "    <tr>\n",
       "      <th>77</th>\n",
       "      <td>RICHARD</td>\n",
       "      <td>male</td>\n",
       "      <td>Now is the winter of our discontent</td>\n",
       "      <td>now is the winter of our discontent</td>\n",
       "      <td>[now, winter, discontent]</td>\n",
       "    </tr>\n",
       "    <tr>\n",
       "      <th>78</th>\n",
       "      <td>RICHARD</td>\n",
       "      <td>male</td>\n",
       "      <td>Made glorious summer by this son of York,</td>\n",
       "      <td>made glorious summer by this son of york</td>\n",
       "      <td>[made, glorious, summer, son, york]</td>\n",
       "    </tr>\n",
       "    <tr>\n",
       "      <th>79</th>\n",
       "      <td>RICHARD</td>\n",
       "      <td>male</td>\n",
       "      <td>And all the clouds that loured upon our house</td>\n",
       "      <td>and all the clouds that loured upon our house</td>\n",
       "      <td>[clouds, loured, upon, house]</td>\n",
       "    </tr>\n",
       "    <tr>\n",
       "      <th>80</th>\n",
       "      <td>RICHARD</td>\n",
       "      <td>male</td>\n",
       "      <td>In the deep bosom of the ocean buried.</td>\n",
       "      <td>in the deep bosom of the ocean buried</td>\n",
       "      <td>[deep, bosom, ocean, buried]</td>\n",
       "    </tr>\n",
       "    <tr>\n",
       "      <th>81</th>\n",
       "      <td>RICHARD</td>\n",
       "      <td>male</td>\n",
       "      <td>Now are our brows bound with victorious wreaths,</td>\n",
       "      <td>now are our brows bound with victorious wreaths</td>\n",
       "      <td>[now, brows, bound, victorious, wreaths]</td>\n",
       "    </tr>\n",
       "    <tr>\n",
       "      <th>...</th>\n",
       "      <td>...</td>\n",
       "      <td>...</td>\n",
       "      <td>...</td>\n",
       "      <td>...</td>\n",
       "      <td>...</td>\n",
       "    </tr>\n",
       "    <tr>\n",
       "      <th>4485</th>\n",
       "      <td>RICHMOND</td>\n",
       "      <td>male</td>\n",
       "      <td>And make poor England weep in streams of blood.</td>\n",
       "      <td>and make poor england weep in streams of blood</td>\n",
       "      <td>[make, poor, england, weep, streams, blood]</td>\n",
       "    </tr>\n",
       "    <tr>\n",
       "      <th>4486</th>\n",
       "      <td>RICHMOND</td>\n",
       "      <td>male</td>\n",
       "      <td>Let them not live to taste this land’s increase,</td>\n",
       "      <td>let them not live to taste this land’s increase</td>\n",
       "      <td>[let, live, taste, land, increase]</td>\n",
       "    </tr>\n",
       "    <tr>\n",
       "      <th>4487</th>\n",
       "      <td>RICHMOND</td>\n",
       "      <td>male</td>\n",
       "      <td>That would with treason wound this fair land’s...</td>\n",
       "      <td>that would with treason wound this fair land’s...</td>\n",
       "      <td>[treason, wound, fair, land, peace]</td>\n",
       "    </tr>\n",
       "    <tr>\n",
       "      <th>4488</th>\n",
       "      <td>RICHMOND</td>\n",
       "      <td>male</td>\n",
       "      <td>Now civil wounds are stopped, peace lives again.</td>\n",
       "      <td>now civil wounds are stopped peace lives again</td>\n",
       "      <td>[now, civil, wounds, stopped, peace, lives]</td>\n",
       "    </tr>\n",
       "    <tr>\n",
       "      <th>4489</th>\n",
       "      <td>RICHMOND</td>\n",
       "      <td>male</td>\n",
       "      <td>That she may long live here, God say amen.</td>\n",
       "      <td>that she may long live here god say amen</td>\n",
       "      <td>[may, long, live, god, say, amen]</td>\n",
       "    </tr>\n",
       "  </tbody>\n",
       "</table>\n",
       "<p>3765 rows × 5 columns</p>\n",
       "</div>"
      ],
      "text/plain": [
       "        speaker    sex                                              lines  \\\n",
       "77      RICHARD   male                Now is the winter of our discontent   \n",
       "78      RICHARD   male          Made glorious summer by this son of York,   \n",
       "79      RICHARD   male      And all the clouds that loured upon our house   \n",
       "80      RICHARD   male             In the deep bosom of the ocean buried.   \n",
       "81      RICHARD   male   Now are our brows bound with victorious wreaths,   \n",
       "...         ...    ...                                                ...   \n",
       "4485   RICHMOND   male    And make poor England weep in streams of blood.   \n",
       "4486   RICHMOND   male   Let them not live to taste this land’s increase,   \n",
       "4487   RICHMOND   male  That would with treason wound this fair land’s...   \n",
       "4488   RICHMOND   male   Now civil wounds are stopped, peace lives again.   \n",
       "4489   RICHMOND   male         That she may long live here, God say amen.   \n",
       "\n",
       "                                         text_processed  \\\n",
       "77                  now is the winter of our discontent   \n",
       "78             made glorious summer by this son of york   \n",
       "79        and all the clouds that loured upon our house   \n",
       "80                in the deep bosom of the ocean buried   \n",
       "81      now are our brows bound with victorious wreaths   \n",
       "...                                                 ...   \n",
       "4485     and make poor england weep in streams of blood   \n",
       "4486    let them not live to taste this land’s increase   \n",
       "4487  that would with treason wound this fair land’s...   \n",
       "4488     now civil wounds are stopped peace lives again   \n",
       "4489           that she may long live here god say amen   \n",
       "\n",
       "                                       data_words  \n",
       "77                      [now, winter, discontent]  \n",
       "78            [made, glorious, summer, son, york]  \n",
       "79                  [clouds, loured, upon, house]  \n",
       "80                   [deep, bosom, ocean, buried]  \n",
       "81       [now, brows, bound, victorious, wreaths]  \n",
       "...                                           ...  \n",
       "4485  [make, poor, england, weep, streams, blood]  \n",
       "4486           [let, live, taste, land, increase]  \n",
       "4487          [treason, wound, fair, land, peace]  \n",
       "4488  [now, civil, wounds, stopped, peace, lives]  \n",
       "4489            [may, long, live, god, say, amen]  \n",
       "\n",
       "[3765 rows x 5 columns]"
      ]
     },
     "execution_count": 9,
     "metadata": {},
     "output_type": "execute_result"
    }
   ],
   "source": [
    "# remove stop words, add new column\n",
    "richardIII['data_words'] = remove_stopwords(richardIII.text_processed.values.tolist())\n",
    "\n",
    "print(richardIII.data_words)\n",
    "richardIII"
   ]
  },
  {
   "cell_type": "markdown",
   "id": "6d108e7c",
   "metadata": {},
   "source": [
    "## explore corpus with word clouds"
   ]
  },
  {
   "cell_type": "code",
   "execution_count": 10,
   "id": "ef0947cc",
   "metadata": {},
   "outputs": [
    {
     "data": {
      "image/png": "[encoded data removed]",
      "text/plain": [
       "<PIL.Image.Image image mode=RGB size=400x200 at 0x1DF47297F40>"
      ]
     },
     "execution_count": 10,
     "metadata": {},
     "output_type": "execute_result"
    }
   ],
   "source": [
    "# Import the wordcloud library\n",
    "from wordcloud import WordCloud\n",
    "\n",
    "# Create a WordCloud object\n",
    "text = str(richardIII['data_words'])\n",
    "wordcloud = WordCloud( max_words=80, max_font_size = 60, contour_width=3, contour_color='steelblue')\n",
    "\n",
    "# Generate a word cloud\n",
    "wordcloud.generate(text)\n",
    "\n",
    "# Visualize the word cloud\n",
    "wordcloud.to_image()"
   ]
  },
  {
   "cell_type": "code",
   "execution_count": 11,
   "id": "7838640b",
   "metadata": {},
   "outputs": [
    {
     "data": {
      "image/png": "[encoded data removed]",
      "text/plain": [
       "<Figure size 432x288 with 1 Axes>"
      ]
     },
     "metadata": {
      "needs_background": "light"
     },
     "output_type": "display_data"
    }
   ],
   "source": [
    "#for word cloud\n",
    "import matplotlib.pyplot as plt\n",
    "wordcloud = WordCloud().generate(text)\n",
    "\n",
    "plt.imshow(wordcloud, interpolation= 'bilinear')\n",
    "plt.axis('off')\n",
    "plt.show()"
   ]
  },
  {
   "cell_type": "markdown",
   "id": "a859eada",
   "metadata": {},
   "source": [
    "## LDA modeling"
   ]
  },
  {
   "cell_type": "code",
   "execution_count": 12,
   "id": "3f0a2afb",
   "metadata": {},
   "outputs": [
    {
     "name": "stdout",
     "output_type": "stream",
     "text": [
      "[(0, 1), (1, 1), (2, 1)]\n"
     ]
    }
   ],
   "source": [
    "import gensim.corpora as corpora\n",
    "\n",
    "# Create Dictionary\n",
    "id2word = corpora.Dictionary(data_words)\n",
    "\n",
    "# Create Corpus\n",
    "texts = data_words\n",
    "\n",
    "# Term Document Frequency\n",
    "corpus = [id2word.doc2bow(text) for text in texts]\n",
    "\n",
    "# View\n",
    "print(corpus[:1][0][:30])"
   ]
  },
  {
   "cell_type": "code",
   "execution_count": 13,
   "id": "1400da3f",
   "metadata": {},
   "outputs": [
    {
     "name": "stdout",
     "output_type": "stream",
     "text": [
      "[(0,\n",
      "  '0.010*\"king\" + 0.007*\"unto\" + 0.007*\"may\" + 0.007*\"look\" + 0.006*\"god\" + '\n",
      "  '0.006*\"good\" + 0.006*\"mother\" + 0.006*\"still\" + 0.005*\"true\" + '\n",
      "  '0.005*\"happy\"'),\n",
      " (1,\n",
      "  '0.039*\"lord\" + 0.026*\"good\" + 0.015*\"love\" + 0.012*\"come\" + 0.010*\"go\" + '\n",
      "  '0.007*\"cousin\" + 0.007*\"noble\" + 0.006*\"fear\" + 0.006*\"bid\" + '\n",
      "  '0.005*\"gracious\"'),\n",
      " (2,\n",
      "  '0.014*\"upon\" + 0.014*\"now\" + 0.010*\"yet\" + 0.007*\"god\" + 0.007*\"grace\" + '\n",
      "  '0.006*\"brother\" + 0.006*\"let\" + 0.006*\"doth\" + 0.006*\"edward\" + '\n",
      "  '0.006*\"bloody\"'),\n",
      " (3,\n",
      "  '0.018*\"god\" + 0.017*\"king\" + 0.008*\"prince\" + 0.007*\"heart\" + 0.007*\"hand\" '\n",
      "  '+ 0.007*\"blood\" + 0.006*\"head\" + 0.006*\"now\" + 0.006*\"made\" + '\n",
      "  '0.006*\"england\"'),\n",
      " (4,\n",
      "  '0.010*\"lord\" + 0.009*\"god\" + 0.007*\"royal\" + 0.007*\"come\" + 0.007*\"mine\" + '\n",
      "  '0.005*\"might\" + 0.005*\"man\" + 0.005*\"one\" + 0.005*\"heavy\" + 0.005*\"live\"'),\n",
      " (5,\n",
      "  '0.023*\"lord\" + 0.010*\"die\" + 0.009*\"death\" + 0.009*\"may\" + 0.008*\"make\" + '\n",
      "  '0.008*\"let\" + 0.007*\"good\" + 0.006*\"made\" + 0.006*\"go\" + 0.006*\"richard\"'),\n",
      " (6,\n",
      "  '0.013*\"grace\" + 0.012*\"tell\" + 0.011*\"king\" + 0.010*\"lord\" + 0.009*\"come\" + '\n",
      "  '0.008*\"mother\" + 0.007*\"live\" + 0.007*\"man\" + 0.006*\"know\" + 0.006*\"done\"'),\n",
      " (7,\n",
      "  '0.011*\"lord\" + 0.011*\"take\" + 0.008*\"edward\" + 0.008*\"now\" + 0.008*\"go\" + '\n",
      "  '0.007*\"give\" + 0.007*\"death\" + 0.005*\"send\" + 0.005*\"king\" + 0.005*\"speak\"'),\n",
      " (8,\n",
      "  '0.013*\"love\" + 0.009*\"time\" + 0.007*\"now\" + 0.006*\"madam\" + 0.006*\"lord\" + '\n",
      "  '0.006*\"clarence\" + 0.005*\"right\" + 0.005*\"yet\" + 0.005*\"richmond\" + '\n",
      "  '0.005*\"day\"'),\n",
      " (9,\n",
      "  '0.012*\"lord\" + 0.009*\"good\" + 0.009*\"now\" + 0.008*\"noble\" + 0.008*\"grace\" + '\n",
      "  '0.008*\"say\" + 0.008*\"god\" + 0.007*\"give\" + 0.007*\"upon\" + 0.006*\"soul\"')]\n"
     ]
    }
   ],
   "source": [
    "from pprint import pprint\n",
    "\n",
    "# number of topics\n",
    "num_topics = 10\n",
    "\n",
    "# Build LDA model\n",
    "lda_model = gensim.models.LdaMulticore(corpus=corpus,\n",
    "                                       id2word=id2word,\n",
    "                                       num_topics=num_topics)\n",
    "\n",
    "# Print the Keyword in the 10 topics\n",
    "pprint(lda_model.print_topics())\n",
    "doc_lda = lda_model[corpus]"
   ]
  },
  {
   "cell_type": "code",
   "execution_count": 14,
   "id": "8374ba0a",
   "metadata": {},
   "outputs": [
    {
     "name": "stdout",
     "output_type": "stream",
     "text": [
      "[(0,\n",
      "  '0.018*\"lord\" + 0.011*\"go\" + 0.010*\"good\" + 0.008*\"edward\" + 0.007*\"death\" + '\n",
      "  '0.006*\"brother\" + 0.006*\"clarence\" + 0.006*\"king\" + 0.005*\"richard\" + '\n",
      "  '0.005*\"god\"'),\n",
      " (1,\n",
      "  '0.015*\"lord\" + 0.008*\"yet\" + 0.008*\"good\" + 0.006*\"god\" + 0.006*\"let\" + '\n",
      "  '0.006*\"buckingham\" + 0.006*\"see\" + 0.005*\"grace\" + 0.005*\"edward\" + '\n",
      "  '0.005*\"brother\"'),\n",
      " (2,\n",
      "  '0.012*\"come\" + 0.011*\"say\" + 0.011*\"god\" + 0.009*\"good\" + 0.008*\"king\" + '\n",
      "  '0.008*\"now\" + 0.007*\"mine\" + 0.007*\"lord\" + 0.006*\"man\" + 0.006*\"soul\"'),\n",
      " (3,\n",
      "  '0.010*\"now\" + 0.006*\"gentle\" + 0.006*\"done\" + 0.006*\"heart\" + 0.006*\"take\" '\n",
      "  '+ 0.006*\"upon\" + 0.006*\"son\" + 0.005*\"lord\" + 0.005*\"let\" + 0.005*\"god\"'),\n",
      " (4,\n",
      "  '0.016*\"lord\" + 0.009*\"upon\" + 0.009*\"grace\" + 0.008*\"may\" + 0.007*\"good\" + '\n",
      "  '0.007*\"know\" + 0.006*\"one\" + 0.006*\"time\" + 0.005*\"live\" + 0.005*\"king\"')]\n"
     ]
    }
   ],
   "source": [
    "# number of topics\n",
    "num_topics = 5\n",
    "\n",
    "# Build LDA model\n",
    "lda_model = gensim.models.LdaMulticore(corpus=corpus,\n",
    "                                       id2word=id2word,\n",
    "                                       num_topics=num_topics)\n",
    "\n",
    "# Print the Keyword\n",
    "pprint(lda_model.print_topics())\n",
    "doc_lda = lda_model[corpus]"
   ]
  },
  {
   "cell_type": "markdown",
   "id": "07800db5",
   "metadata": {},
   "source": [
    "### using mallet-processed file for LDA"
   ]
  },
  {
   "cell_type": "code",
   "execution_count": 15,
   "id": "1923a0ed",
   "metadata": {},
   "outputs": [],
   "source": [
    "from gensim.test.utils import get_tmpfile, common_texts\n",
    "from gensim.corpora import MalletCorpus\n",
    "from gensim.corpora import Dictionary\n",
    "\n",
    "# Prepare needed data\n",
    "dictionary = Dictionary(data_words)\n",
    "corpus = [dictionary.doc2bow(doc) for doc in data_words]\n",
    "\n",
    "# Write corpus in Mallet format to disk\n",
    "output_fname = get_tmpfile(\"corpus.mallet\")\n",
    "MalletCorpus.serialize(output_fname, corpus, dictionary)\n",
    "\n",
    "# Read corpus\n",
    "loaded_corpus = MalletCorpus(output_fname)"
   ]
  },
  {
   "cell_type": "code",
   "execution_count": 16,
   "id": "85a4fe49",
   "metadata": {},
   "outputs": [],
   "source": [
    "lda_model = gensim.models.LdaMulticore(corpus=loaded_corpus,\n",
    "                                       id2word=dictionary,\n",
    "                                       num_topics=5)"
   ]
  },
  {
   "cell_type": "code",
   "execution_count": 17,
   "id": "6e55f424",
   "metadata": {},
   "outputs": [
    {
     "name": "stdout",
     "output_type": "stream",
     "text": [
      "[(0,\n",
      "  '0.015*\"embrace\" + 0.009*\"trembling\" + 0.008*\"images\" + 0.006*\"feeble\" + '\n",
      "  '0.006*\"multitude\" + 0.005*\"sojourn\" + 0.005*\"encouragement\" + '\n",
      "  '0.005*\"meaning\" + 0.005*\"play\" + 0.005*\"erpast\"'),\n",
      " (1,\n",
      "  '0.025*\"images\" + 0.014*\"play\" + 0.010*\"swine\" + 0.010*\"warrant\" + '\n",
      "  '0.009*\"prate\" + 0.008*\"sojourn\" + 0.006*\"feeble\" + 0.006*\"blessings\" + '\n",
      "  '0.006*\"dread\" + 0.005*\"knee\"'),\n",
      " (2,\n",
      "  '0.012*\"blessings\" + 0.010*\"writ\" + 0.008*\"precious\" + 0.007*\"multitude\" + '\n",
      "  '0.007*\"revengeful\" + 0.006*\"warrant\" + 0.006*\"sole\" + 0.006*\"images\" + '\n",
      "  '0.006*\"knee\" + 0.005*\"requires\"'),\n",
      " (3,\n",
      "  '0.008*\"greatness\" + 0.007*\"images\" + 0.007*\"troops\" + 0.007*\"surmise\" + '\n",
      "  '0.007*\"blindly\" + 0.006*\"meaning\" + 0.006*\"suborn\" + 0.006*\"warrant\" + '\n",
      "  '0.006*\"embrace\" + 0.005*\"innocents\"'),\n",
      " (4,\n",
      "  '0.015*\"images\" + 0.008*\"sojourn\" + 0.008*\"warrant\" + 0.007*\"writ\" + '\n",
      "  '0.006*\"level\" + 0.006*\"knee\" + 0.006*\"privilege\" + 0.006*\"gave\" + '\n",
      "  '0.005*\"kissing\" + 0.004*\"precious\"')]\n"
     ]
    }
   ],
   "source": [
    "pprint(lda_model.print_topics())\n",
    "doc_lda = lda_model[loaded_corpus]"
   ]
  },
  {
   "cell_type": "code",
   "execution_count": 18,
   "id": "70666db5",
   "metadata": {},
   "outputs": [],
   "source": [
    "lda_model = gensim.models.LdaMulticore(corpus=loaded_corpus,\n",
    "                                       id2word=dictionary,\n",
    "                                       num_topics=10)"
   ]
  },
  {
   "cell_type": "code",
   "execution_count": 19,
   "id": "8151bc1b",
   "metadata": {},
   "outputs": [
    {
     "name": "stdout",
     "output_type": "stream",
     "text": [
      "[(0,\n",
      "  '0.024*\"images\" + 0.012*\"embrace\" + 0.009*\"troops\" + 0.008*\"requires\" + '\n",
      "  '0.007*\"write\" + 0.006*\"sojourn\" + 0.006*\"thriving\" + 0.005*\"vaughan\" + '\n",
      "  '0.005*\"doting\" + 0.005*\"fie\"'),\n",
      " (1,\n",
      "  '0.012*\"sojourn\" + 0.010*\"knee\" + 0.010*\"multitude\" + 0.009*\"warrant\" + '\n",
      "  '0.009*\"meaning\" + 0.008*\"feeble\" + 0.007*\"swine\" + 0.006*\"vaughan\" + '\n",
      "  '0.006*\"gave\" + 0.006*\"poor\"'),\n",
      " (2,\n",
      "  '0.023*\"images\" + 0.015*\"greatness\" + 0.014*\"blessings\" + 0.014*\"writ\" + '\n",
      "  '0.008*\"sojourn\" + 0.007*\"feeble\" + 0.007*\"play\" + 0.006*\"warrant\" + '\n",
      "  '0.005*\"unrespective\" + 0.005*\"sweating\"'),\n",
      " (3,\n",
      "  '0.008*\"clergymen\" + 0.008*\"precious\" + 0.006*\"offense\" + 0.006*\"doting\" + '\n",
      "  '0.006*\"meaning\" + 0.006*\"worldly\" + 0.006*\"babes\" + 0.006*\"privilege\" + '\n",
      "  '0.006*\"embrace\" + 0.005*\"nights\"'),\n",
      " (4,\n",
      "  '0.022*\"images\" + 0.016*\"warrant\" + 0.010*\"surmise\" + 0.009*\"worldly\" + '\n",
      "  '0.008*\"sojourn\" + 0.007*\"play\" + 0.007*\"envious\" + 0.007*\"tackling\" + '\n",
      "  '0.005*\"kissing\" + 0.005*\"aweless\"'),\n",
      " (5,\n",
      "  '0.014*\"images\" + 0.009*\"loving\" + 0.009*\"play\" + 0.008*\"blessings\" + '\n",
      "  '0.007*\"embrace\" + 0.006*\"kissing\" + 0.006*\"prate\" + 0.006*\"revengeful\" + '\n",
      "  '0.006*\"wolves\" + 0.005*\"blindly\"'),\n",
      " (6,\n",
      "  '0.010*\"embrace\" + 0.008*\"grounded\" + 0.008*\"feeble\" + 0.007*\"rashly\" + '\n",
      "  '0.007*\"prate\" + 0.006*\"shape\" + 0.005*\"sole\" + 0.005*\"worser\" + '\n",
      "  '0.005*\"gave\" + 0.005*\"common\"'),\n",
      " (7,\n",
      "  '0.018*\"warrant\" + 0.012*\"lament\" + 0.009*\"bleed\" + 0.008*\"play\" + '\n",
      "  '0.008*\"greatness\" + 0.007*\"knee\" + 0.006*\"sojourn\" + 0.005*\"level\" + '\n",
      "  '0.005*\"precious\" + 0.005*\"prate\"'),\n",
      " (8,\n",
      "  '0.017*\"play\" + 0.010*\"images\" + 0.008*\"feeble\" + 0.008*\"tackling\" + '\n",
      "  '0.008*\"dread\" + 0.007*\"trembling\" + 0.006*\"privilege\" + 0.006*\"prate\" + '\n",
      "  '0.006*\"rashly\" + 0.005*\"aweless\"'),\n",
      " (9,\n",
      "  '0.015*\"images\" + 0.011*\"swine\" + 0.011*\"air\" + 0.008*\"murder\" + '\n",
      "  '0.007*\"writ\" + 0.007*\"gulls\" + 0.006*\"sort\" + 0.006*\"sojourn\" + '\n",
      "  '0.006*\"knee\" + 0.004*\"offenders\"')]\n"
     ]
    }
   ],
   "source": [
    "pprint(lda_model.print_topics())\n",
    "doc_lda = lda_model[loaded_corpus]"
   ]
  },
  {
   "cell_type": "code",
   "execution_count": 20,
   "id": "7b0c4e0b",
   "metadata": {},
   "outputs": [],
   "source": [
    "import pyLDAvis\n",
    "import pyLDAvis.gensim_models as gensimvis\n",
    "from gensim.models.phrases import Phrases, ENGLISH_CONNECTOR_WORDS\n",
    "from gensim.models.phrases import Phraser"
   ]
  },
  {
   "cell_type": "code",
   "execution_count": 21,
   "id": "d987f2aa",
   "metadata": {},
   "outputs": [],
   "source": [
    "# Building the bigram and trigram models using Gensim  \n",
    "bigram = Phrases(data_words) # higher threshold represents fewer phrases.\n",
    "trigram = Phrases(bigram[data_words], threshold=100) \n",
    "\n",
    "# Faster way to get a sentence clubbed as a trigram/bigram\n",
    "bigram_mod = Phraser(bigram)\n",
    "trigram_mod = Phraser(trigram)"
   ]
  },
  {
   "cell_type": "code",
   "execution_count": 23,
   "id": "176e2e07",
   "metadata": {},
   "outputs": [
    {
     "name": "stdout",
     "output_type": "stream",
     "text": [
      "['bruised', 'arms', 'hung', 'monuments']\n"
     ]
    }
   ],
   "source": [
    "print(bigram_mod[data_words[5]])"
   ]
  },
  {
   "cell_type": "code",
   "execution_count": 24,
   "id": "7ef85019",
   "metadata": {},
   "outputs": [],
   "source": [
    "def make_bigrams(texts):\n",
    "    return [bigram_mod[doc] for doc in texts]"
   ]
  },
  {
   "cell_type": "code",
   "execution_count": 25,
   "id": "55bd9550",
   "metadata": {},
   "outputs": [],
   "source": [
    "def lemmatization(texts, allowed_postags=['NOUN', 'ADJ', 'VERB', 'ADV']):\n",
    "    \"\"\"https://spacy.io/api/annotation\"\"\"\n",
    "    texts_out = []\n",
    "    for sent in texts:\n",
    "        doc = nlp(\" \".join(sent)) \n",
    "        texts_out.append([token.lemma_ for token in doc if token.pos_ in allowed_postags])\n",
    "    return texts_out"
   ]
  },
  {
   "cell_type": "code",
   "execution_count": 26,
   "id": "8783f2d4",
   "metadata": {},
   "outputs": [],
   "source": [
    "import spacy"
   ]
  },
  {
   "cell_type": "code",
   "execution_count": 28,
   "id": "110c31aa",
   "metadata": {},
   "outputs": [
    {
     "name": "stdout",
     "output_type": "stream",
     "text": [
      "[['now', 'winter', 'discontent'], ['make', 'glorious', 'summer']]\n"
     ]
    }
   ],
   "source": [
    "# Initialize spacy 'en' model\n",
    "nlp = spacy.load(\"en_core_web_sm\")\n",
    "               \n",
    "\n",
    "# Do lemmatization keeping only noun, adj, vb, adv\n",
    "data_lemmatized = lemmatization(bigram_mod[data_words], allowed_postags=['NOUN', 'ADJ', 'VERB', 'ADV'])\n",
    "\n",
    "print(data_lemmatized[:2])"
   ]
  },
  {
   "cell_type": "code",
   "execution_count": 29,
   "id": "a9e421b2",
   "metadata": {},
   "outputs": [
    {
     "name": "stdout",
     "output_type": "stream",
     "text": [
      "[[(0, 1), (1, 1), (2, 1)]]\n"
     ]
    }
   ],
   "source": [
    "# Create Dictionary\n",
    "id2word = gensim.corpora.Dictionary(data_lemmatized)\n",
    "\n",
    "# Create Corpus\n",
    "texts = data_lemmatized\n",
    "\n",
    "# Term Document Frequency. \"id2word\" matches words with their IDs in the corpus\n",
    "# \"doc2bow\" converts the corpus into a bag of words \n",
    "corpus = [id2word.doc2bow(text) for text in texts]\n",
    "\n",
    "# View frequency tuples: first index is the word and second is the frequency for that word\n",
    "print(corpus[:1])"
   ]
  },
  {
   "cell_type": "code",
   "execution_count": 30,
   "id": "12a63e5f",
   "metadata": {},
   "outputs": [
    {
     "data": {
      "text/plain": [
       "[[('discontent', 1), ('now', 1), ('winter', 1)]]"
      ]
     },
     "execution_count": 30,
     "metadata": {},
     "output_type": "execute_result"
    }
   ],
   "source": [
    "# Human readable format of corpus (term-frequency)\n",
    "[[(id2word[id], freq) for id, freq in cp] for cp in corpus[:1]]"
   ]
  },
  {
   "cell_type": "code",
   "execution_count": 31,
   "id": "9ecaf963",
   "metadata": {},
   "outputs": [],
   "source": [
    "# Build LDA model\n",
    "# Avoiding future changes warning messages\n",
    "import warnings\n",
    "warnings.filterwarnings(\"ignore\",category=DeprecationWarning)\n",
    "\n",
    "# Parametize the model\n",
    "# See details for parameters values: https://radimrehurek.com/gensim/models/ldamodel.html\n",
    "lda_model = gensim.models.ldamodel.LdaModel(corpus=corpus,\n",
    "                                           id2word=id2word,\n",
    "                                           num_topics=5,                                  \n",
    "                                           chunksize=100,\n",
    "                                           passes=100,\n",
    "                                           alpha='auto',\n",
    "                                           per_word_topics=True)"
   ]
  },
  {
   "cell_type": "code",
   "execution_count": 32,
   "id": "04559b58",
   "metadata": {},
   "outputs": [
    {
     "name": "stdout",
     "output_type": "stream",
     "text": [
      "[(0,\n",
      "  '0.044*\"good\" + 0.027*\"day\" + 0.022*\"horse\" + 0.021*\"time\" + 0.020*\"give\" + '\n",
      "  '0.015*\"fight\" + 0.015*\"long\" + 0.014*\"lord\" + 0.014*\"tomorrow\" + '\n",
      "  '0.012*\"peace\"'),\n",
      " (1,\n",
      "  '0.035*\"make\" + 0.021*\"fair\" + 0.020*\"live\" + 0.019*\"friend\" + 0.016*\"heart\" '\n",
      "  '+ 0.016*\"die\" + 0.015*\"blood\" + 0.013*\"dead\" + 0.013*\"dream\" + 0.013*\"son\"'),\n",
      " (2,\n",
      "  '0.033*\"love\" + 0.025*\"man\" + 0.023*\"king\" + 0.016*\"daughter\" + 0.016*\"know\" '\n",
      "  '+ 0.014*\"speak\" + 0.013*\"hour\" + 0.013*\"poor\" + 0.012*\"name\" + '\n",
      "  '0.010*\"word\"'),\n",
      " (3,\n",
      "  '0.029*\"let\" + 0.025*\"go\" + 0.024*\"soul\" + 0.021*\"tell\" + 0.020*\"think\" + '\n",
      "  '0.018*\"death\" + 0.015*\"life\" + 0.015*\"mother\" + 0.014*\"child\" + '\n",
      "  '0.014*\"see\"'),\n",
      " (4,\n",
      "  '0.037*\"come\" + 0.036*\"say\" + 0.032*\"now\" + 0.018*\"arm\" + 0.018*\"bloody\" + '\n",
      "  '0.017*\"grace\" + 0.016*\"sleep\" + 0.015*\"look\" + 0.015*\"brother\" + '\n",
      "  '0.011*\"land\"')]\n"
     ]
    }
   ],
   "source": [
    "# Print keyword for the topics created \n",
    "# the number besides the topic shows the probability score for that topic within the cluster\n",
    "from pprint import pprint\n",
    "\n",
    "pprint(lda_model.print_topics())\n",
    "doc_lda = lda_model[corpus]"
   ]
  },
  {
   "cell_type": "code",
   "execution_count": 33,
   "id": "966a7842",
   "metadata": {},
   "outputs": [
    {
     "name": "stderr",
     "output_type": "stream",
     "text": [
      "C:\\Users\\Elizabeth's\\AppData\\Roaming\\Python\\Python39\\site-packages\\pyLDAvis\\_prepare.py:246: FutureWarning: In a future version of pandas all arguments of DataFrame.drop except for the argument 'labels' will be keyword-only.\n",
      "  default_term_info = default_term_info.sort_values(\n"
     ]
    }
   ],
   "source": [
    "from __future__ import division\n",
    "\n",
    "# Visualize the topics using pyLDAvis\n",
    "# Save the visualization as an html file\n",
    "pyLDAvis.enable_notebook()\n",
    "vis = gensimvis.prepare(lda_model, corpus, id2word,  mds='mmds')\n",
    "pyLDAvis.display(vis, template_type='notebook') \n",
    "vis\n",
    "\n",
    "pyLDAvis.save_html(vis,'LDA_viz_RIII.html')\n"
   ]
  },
  {
   "cell_type": "markdown",
   "id": "8aa2acdf",
   "metadata": {},
   "source": [
    "top_topics(corpus=None, texts=None, dictionary=None, window_size=None, coherence='u_mass', topn=20, processes=-1)"
   ]
  },
  {
   "cell_type": "code",
   "execution_count": 34,
   "id": "74d3225a",
   "metadata": {},
   "outputs": [
    {
     "name": "stdout",
     "output_type": "stream",
     "text": [
      "[([(0.029471172, 'let'),\n",
      "   (0.02527278, 'go'),\n",
      "   (0.024474733, 'soul'),\n",
      "   (0.0209161, 'tell'),\n",
      "   (0.019904317, 'think'),\n",
      "   (0.017960913, 'death'),\n",
      "   (0.01502646, 'life'),\n",
      "   (0.014794793, 'mother'),\n",
      "   (0.013804542, 'child'),\n",
      "   (0.013712896, 'see')],\n",
      "  -11.183063235606348),\n",
      " ([(0.033414718, 'love'),\n",
      "   (0.025047177, 'man'),\n",
      "   (0.022812603, 'king'),\n",
      "   (0.016424283, 'daughter'),\n",
      "   (0.015831133, 'know'),\n",
      "   (0.013954836, 'speak'),\n",
      "   (0.012892078, 'hour'),\n",
      "   (0.012836204, 'poor'),\n",
      "   (0.012127333, 'name'),\n",
      "   (0.009749295, 'word')],\n",
      "  -15.444100969578411),\n",
      " ([(0.04396866, 'good'),\n",
      "   (0.027499804, 'day'),\n",
      "   (0.021857219, 'horse'),\n",
      "   (0.02133265, 'time'),\n",
      "   (0.020479422, 'give'),\n",
      "   (0.015439325, 'fight'),\n",
      "   (0.014936652, 'long'),\n",
      "   (0.014226654, 'lord'),\n",
      "   (0.013930099, 'tomorrow'),\n",
      "   (0.01165851, 'peace')],\n",
      "  -15.58069340570941),\n",
      " ([(0.037041117, 'come'),\n",
      "   (0.03571092, 'say'),\n",
      "   (0.03196164, 'now'),\n",
      "   (0.018078523, 'arm'),\n",
      "   (0.017724704, 'bloody'),\n",
      "   (0.017394587, 'grace'),\n",
      "   (0.015947554, 'sleep'),\n",
      "   (0.015417118, 'look'),\n",
      "   (0.014684155, 'brother'),\n",
      "   (0.011486218, 'land')],\n",
      "  -16.78040661439276),\n",
      " ([(0.035145428, 'make'),\n",
      "   (0.020720107, 'fair'),\n",
      "   (0.019559596, 'live'),\n",
      "   (0.019205797, 'friend'),\n",
      "   (0.016329454, 'heart'),\n",
      "   (0.016047439, 'die'),\n",
      "   (0.014839571, 'blood'),\n",
      "   (0.013498487, 'dead'),\n",
      "   (0.013444975, 'dream'),\n",
      "   (0.012694302, 'son')],\n",
      "  -17.12976488996348)]\n"
     ]
    }
   ],
   "source": [
    "pprint(lda_model.top_topics(corpus=corpus,  topn=10))"
   ]
  },
  {
   "cell_type": "markdown",
   "id": "d252e326",
   "metadata": {},
   "source": [
    "## LDA topic modeling by character"
   ]
  },
  {
   "cell_type": "code",
   "execution_count": 35,
   "id": "f13aa930",
   "metadata": {},
   "outputs": [
    {
     "data": {
      "text/plain": [
       "77                     [now, winter, discontent]\n",
       "78           [made, glorious, summer, son, york]\n",
       "79                 [clouds, loured, upon, house]\n",
       "80                  [deep, bosom, ocean, buried]\n",
       "81      [now, brows, bound, victorious, wreaths]\n",
       "                          ...                   \n",
       "4427              [slave, set, life, upon, cast]\n",
       "4428                        [stand, hazard, die]\n",
       "4429              [think, six, richmonds, field]\n",
       "4430               [five, slain, today, instead]\n",
       "4431              [horse, horse, kingdom, horse]\n",
       "Name: data_words, Length: 1176, dtype: object"
      ]
     },
     "execution_count": 35,
     "metadata": {},
     "output_type": "execute_result"
    }
   ],
   "source": [
    "just_richard = richardIII.loc[richardIII['speaker'] == \" RICHARD\", \"data_words\"]\n",
    "just_richard"
   ]
  },
  {
   "cell_type": "code",
   "execution_count": 36,
   "id": "3d4a65f0",
   "metadata": {},
   "outputs": [],
   "source": [
    "# Form Bigrams\n",
    "richard_bigrams = make_bigrams(just_richard)"
   ]
  },
  {
   "cell_type": "code",
   "execution_count": 37,
   "id": "c7d234c1",
   "metadata": {},
   "outputs": [
    {
     "name": "stdout",
     "output_type": "stream",
     "text": [
      "[['now', 'winter', 'discontent'], ['make', 'glorious', 'summer']]\n"
     ]
    }
   ],
   "source": [
    "# Do lemmatization keeping only noun, adj, vb, adv\n",
    "richard_lemmatized = lemmatization(richard_bigrams, allowed_postags=['NOUN', 'ADJ', 'VERB', 'ADV'])\n",
    "\n",
    "print(richard_lemmatized[:2])"
   ]
  },
  {
   "cell_type": "code",
   "execution_count": 38,
   "id": "9f81f62e",
   "metadata": {},
   "outputs": [
    {
     "name": "stdout",
     "output_type": "stream",
     "text": [
      "[[(0, 1), (1, 1), (2, 1)]]\n"
     ]
    }
   ],
   "source": [
    "# Create Dictionary\n",
    "id2word = gensim.corpora.Dictionary(richard_lemmatized)\n",
    "\n",
    "# Create Corpus\n",
    "texts = richard_lemmatized\n",
    "\n",
    "# Term Document Frequency. \"id2word\" matches words with their IDs in the corpus\n",
    "corpus = [id2word.doc2bow(text) for text in texts]\n",
    "\n",
    "# View frequency tuples: first index is the word and second is the frequency for that word\n",
    "print(corpus[:1])"
   ]
  },
  {
   "cell_type": "code",
   "execution_count": 39,
   "id": "87f898e2",
   "metadata": {},
   "outputs": [],
   "source": [
    "# Build LDA model\n",
    "\n",
    "# Parametize the model\n",
    "# See details for parameters values: https://radimrehurek.com/gensim/models/ldamodel.html\n",
    "lda_model = gensim.models.ldamodel.LdaModel(corpus=corpus,\n",
    "                                           id2word=id2word,\n",
    "                                           num_topics=5,                                  \n",
    "                                           chunksize=100,\n",
    "                                           passes=100,\n",
    "                                           alpha='auto',\n",
    "                                           per_word_topics=True)"
   ]
  },
  {
   "cell_type": "code",
   "execution_count": 41,
   "id": "8da6018b",
   "metadata": {},
   "outputs": [
    {
     "name": "stdout",
     "output_type": "stream",
     "text": [
      "[([(0.031888425, 'come'),\n",
      "   (0.027571773, 'good'),\n",
      "   (0.023459367, 'look'),\n",
      "   (0.016063454, 'day'),\n",
      "   (0.01444908, 'clarence'),\n",
      "   (0.011988446, 'wife'),\n",
      "   (0.011217095, 'gentleman'),\n",
      "   (0.0108367475, 'hear')],\n",
      "  -16.918169678505752),\n",
      " ([(0.024066627, 'make'),\n",
      "   (0.022915259, 'now'),\n",
      "   (0.022743331, 'horse'),\n",
      "   (0.019937687, 'daughter'),\n",
      "   (0.016710721, 'tell'),\n",
      "   (0.016423581, 'give'),\n",
      "   (0.014407139, 'think'),\n",
      "   (0.014386691, 'bring')],\n",
      "  -17.68633286311272),\n",
      " ([(0.031243563, 'love'),\n",
      "   (0.023740858, 'let'),\n",
      "   (0.015781637, 'soul'),\n",
      "   (0.015458507, 'mother'),\n",
      "   (0.013437009, 'fair'),\n",
      "   (0.012432302, 'life'),\n",
      "   (0.009250296, 'blood'),\n",
      "   (0.0091815265, 'noble')],\n",
      "  -18.94326909491837),\n",
      " ([(0.033993743, 'say'),\n",
      "   (0.032295663, 'go'),\n",
      "   (0.016456641, 'time'),\n",
      "   (0.015217508, 'speak'),\n",
      "   (0.014739705, 'friend'),\n",
      "   (0.01469266, 'eye'),\n",
      "   (0.01173484, 'great'),\n",
      "   (0.01117149, 'word')],\n",
      "  -21.34159446676301),\n",
      " ([(0.025953274, 'king'),\n",
      "   (0.01659977, 'heart'),\n",
      "   (0.013575271, 'know'),\n",
      "   (0.012877443, 'lead'),\n",
      "   (0.012341984, 'even'),\n",
      "   (0.011692023, 'do'),\n",
      "   (0.011455354, 'dream'),\n",
      "   (0.010355605, 'power')],\n",
      "  -22.438320054672232)]\n"
     ]
    }
   ],
   "source": [
    "pprint(lda_model.top_topics(corpus=corpus,  topn=8))"
   ]
  },
  {
   "cell_type": "code",
   "execution_count": 42,
   "id": "69a75416",
   "metadata": {},
   "outputs": [
    {
     "name": "stderr",
     "output_type": "stream",
     "text": [
      "C:\\Users\\Elizabeth's\\AppData\\Roaming\\Python\\Python39\\site-packages\\pyLDAvis\\_prepare.py:246: FutureWarning: In a future version of pandas all arguments of DataFrame.drop except for the argument 'labels' will be keyword-only.\n",
      "  default_term_info = default_term_info.sort_values(\n"
     ]
    }
   ],
   "source": [
    "# Visualize the topics using pyLDAvis\n",
    "# Save the visualization as an html file\n",
    "pyLDAvis.enable_notebook()\n",
    "vis = gensimvis.prepare(lda_model, corpus, id2word,  mds='mmds')\n",
    "pyLDAvis.display(vis, template_type='notebook') \n",
    "vis\n",
    "\n",
    "pyLDAvis.save_html(vis,'LDA_viz_Richard_topics.html')"
   ]
  },
  {
   "cell_type": "code",
   "execution_count": null,
   "id": "9d60f3d1",
   "metadata": {},
   "outputs": [],
   "source": []
  },
  {
   "cell_type": "code",
   "execution_count": 43,
   "id": "48831998",
   "metadata": {},
   "outputs": [
    {
     "data": {
      "text/plain": [
       "611                              [dead, betide]\n",
       "613               [loss, lord, includes, harms]\n",
       "616                       [ah, young, minority]\n",
       "617     [put, unto, trust, richard, gloucester]\n",
       "618                          [man, loves, none]\n",
       "                         ...                   \n",
       "3697                                   [forget]\n",
       "3699               [yet, didst, kill, children]\n",
       "3703                        [go, win, daughter]\n",
       "3705                 [go, write, very, shortly]\n",
       "3706                         [understand, mind]\n",
       "Name: data_words, Length: 276, dtype: object"
      ]
     },
     "execution_count": 43,
     "metadata": {},
     "output_type": "execute_result"
    }
   ],
   "source": [
    "elizabeth = richardIII.loc[richardIII['speaker']==\" QUEEN ELIZABETH\", \"data_words\"]\n",
    "elizabeth"
   ]
  },
  {
   "cell_type": "code",
   "execution_count": null,
   "id": "fb17b0a5",
   "metadata": {},
   "outputs": [],
   "source": []
  },
  {
   "cell_type": "code",
   "execution_count": null,
   "id": "9b7ab4a8",
   "metadata": {},
   "outputs": [],
   "source": []
  },
  {
   "cell_type": "code",
   "execution_count": null,
   "id": "5b5a213b",
   "metadata": {},
   "outputs": [],
   "source": []
  }
 ],
 "metadata": {
  "kernelspec": {
   "display_name": "Python 3 (ipykernel)",
   "language": "python",
   "name": "python3"
  },
  "language_info": {
   "codemirror_mode": {
    "name": "ipython",
    "version": 3
   },
   "file_extension": ".py",
   "mimetype": "text/x-python",
   "name": "python",
   "nbconvert_exporter": "python",
   "pygments_lexer": "ipython3",
   "version": "3.9.12"
  }
 },
 "nbformat": 4,
 "nbformat_minor": 5
}
